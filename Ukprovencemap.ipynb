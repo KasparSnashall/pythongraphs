{
 "metadata": {
  "name": "",
  "signature": "sha256:e6603aaf1074a5a602d8a48c2945e304ce77312afd248cd6442c6e5f155d7a76"
 },
 "nbformat": 3,
 "nbformat_minor": 0,
 "worksheets": [
  {
   "cells": [
    {
     "cell_type": "code",
     "collapsed": false,
     "input": [],
     "language": "python",
     "metadata": {},
     "outputs": []
    }
   ],
   "metadata": {}
  }
 ]
}