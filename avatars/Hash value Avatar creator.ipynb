{
 "metadata": {
  "name": "",
  "signature": "sha256:156559db2dffc7b5740c4e11721a0882f8a3259cce04b8b7a18bd91ff44059a7"
 },
 "nbformat": 3,
 "nbformat_minor": 0,
 "worksheets": [
  {
   "cells": [
    {
     "cell_type": "markdown",
     "metadata": {},
     "source": [
      "Binary Avatar Creator\n",
      "============\n",
      "Kaspar Snashall\n",
      "------------\n",
      "\n",
      "\n",
      "Introduction\n",
      "=============\n",
      "In this document the author hopes through a little bit of python to create a binary avatar creator in python which would take in any letters/numbers convert them to hash and create an image based on that number.\n",
      "As this is the first ever avatar creator the author has made it may be a bit glichy."
     ]
    },
    {
     "cell_type": "markdown",
     "metadata": {},
     "source": [
      "Where to start?\n",
      "===============\n",
      "The first thing to do is create a way to take an input from the user and convert it to a hash value."
     ]
    },
    {
     "cell_type": "code",
     "collapsed": false,
     "input": [
      "hashvalue = hash(raw_input(\"Type Something \"))"
     ],
     "language": "python",
     "metadata": {},
     "outputs": [
      {
       "name": "stdout",
       "output_type": "stream",
       "stream": "stdout",
       "text": [
        "Type Something hello\n"
       ]
      }
     ],
     "prompt_number": 29
    },
    {
     "cell_type": "code",
     "collapsed": false,
     "input": [
      "print hashvalue"
     ],
     "language": "python",
     "metadata": {},
     "outputs": [
      {
       "output_type": "stream",
       "stream": "stdout",
       "text": [
        "840651671246116861\n"
       ]
      }
     ],
     "prompt_number": 30
    },
    {
     "cell_type": "markdown",
     "metadata": {},
     "source": [
      "Now we have a nice hash value creator so how will we make the avatar? I think something along the lines of a matrix would do. Lets label a grid of 5x5 squares (0,0),(0,1),(0,2),(0,3),(0,4) would be the first line. PIL will allow us to draw squares on a grid as such. http://effbot.org/imagingbook/imagedraw.htm However since PIL is deapriciated we will use its fork Pillow http://pillow.readthedocs.org/en/latest/reference/ImageDraw.html"
     ]
    },
    {
     "cell_type": "code",
     "collapsed": false,
     "input": [
      "from PIL.ImageDraw import Draw\n",
      "img = Image.new(\"RGBA\", (500, 500))\n",
      "draw = Draw(img)\n",
      "draw.rectangle(((0,0), (500, 500)), fill=(240, 240, 240))\n",
      "from IPython.display import Image as I\n",
      "img.save('new.png')\n",
      "I('new.png')"
     ],
     "language": "python",
     "metadata": {},
     "outputs": [
      {
       "metadata": {},
       "output_type": "pyout",
       "png": "[encoded data removed]",
       "prompt_number": 24,
       "text": [
        "<IPython.core.display.Image at 0x7fa2f825f810>"
       ]
      }
     ],
     "prompt_number": 24
    },
    {
     "cell_type": "markdown",
     "metadata": {},
     "source": [
      "So this isnt very interesting just a blank square at the moment lets try drawing some squares on top of it. Each square will be 100x100 and its corners are defined via (x0,y0,x1,y1)"
     ]
    },
    {
     "cell_type": "code",
     "collapsed": false,
     "input": [
      "import numpy as np\n",
      "tops = np.linspace(0,400,5)\n",
      "bottoms = np.linspace(100,500,5)\n",
      "print tops,bottoms"
     ],
     "language": "python",
     "metadata": {},
     "outputs": [
      {
       "output_type": "stream",
       "stream": "stdout",
       "text": [
        "[   0.  100.  200.  300.  400.] [ 100.  200.  300.  400.  500.]\n"
       ]
      }
     ],
     "prompt_number": 5
    },
    {
     "cell_type": "code",
     "collapsed": false,
     "input": [
      "import itertools\n",
      "# very useful http://stackoverflow.com/questions/9082829/creating-2d-coordinates-map-in-python\n",
      "left = list(itertools.product((tops),(tops)))\n",
      "right = list(itertools.product((bottoms),(bottoms)))\n",
      "print left,right"
     ],
     "language": "python",
     "metadata": {},
     "outputs": [
      {
       "output_type": "stream",
       "stream": "stdout",
       "text": [
        "[(0.0, 0.0), (0.0, 100.0), (0.0, 200.0), (0.0, 300.0), (0.0, 400.0), (100.0, 0.0), (100.0, 100.0), (100.0, 200.0), (100.0, 300.0), (100.0, 400.0), (200.0, 0.0), (200.0, 100.0), (200.0, 200.0), (200.0, 300.0), (200.0, 400.0), (300.0, 0.0), (300.0, 100.0), (300.0, 200.0), (300.0, 300.0), (300.0, 400.0), (400.0, 0.0), (400.0, 100.0), (400.0, 200.0), (400.0, 300.0), (400.0, 400.0)] [(100.0, 100.0), (100.0, 200.0), (100.0, 300.0), (100.0, 400.0), (100.0, 500.0), (200.0, 100.0), (200.0, 200.0), (200.0, 300.0), (200.0, 400.0), (200.0, 500.0), (300.0, 100.0), (300.0, 200.0), (300.0, 300.0), (300.0, 400.0), (300.0, 500.0), (400.0, 100.0), (400.0, 200.0), (400.0, 300.0), (400.0, 400.0), (400.0, 500.0), (500.0, 100.0), (500.0, 200.0), (500.0, 300.0), (500.0, 400.0), (500.0, 500.0)]\n"
       ]
      }
     ],
     "prompt_number": 6
    },
    {
     "cell_type": "code",
     "collapsed": false,
     "input": [
      "# now attempting to draw a completely balck square\n",
      "boxes = []\n",
      "for j in range(len(left)):\n",
      "    boxes.append((left[j],right[j]))\n",
      "\n",
      "for value in boxes:\n",
      "    # this need a bit of fiddling for some reason when i commit\n",
      "    # list.append((x,y)) and call it Z it isnt the same as me typing (x,y) into the function?!?\n",
      "    top = value[0]\n",
      "    bottom = value[1]\n",
      "    x0 = float(top[0])\n",
      "    y0 = float(top[1])\n",
      "    x1 = float(bottom[0])\n",
      "    y1 = float(bottom[1])\n",
      "    draw.rectangle((x0,y0,x1,y1),fill=(100,100,100))\n",
      "\n",
      "img.save('final.png')\n",
      "I('final.png')"
     ],
     "language": "python",
     "metadata": {},
     "outputs": [
      {
       "metadata": {},
       "output_type": "pyout",
       "png": "[encoded data removed]",
       "prompt_number": 23,
       "text": [
        "<IPython.core.display.Image at 0x7fa2f8073a50>"
       ]
      }
     ],
     "prompt_number": 23
    },
    {
     "cell_type": "markdown",
     "metadata": {},
     "source": [
      "Now we just need to make a decision as to which squares will be filled depending on the hash value."
     ]
    },
    {
     "cell_type": "code",
     "collapsed": false,
     "input": [
      "# checker board base on arbitrary k\n",
      "k = 2\n",
      "for value in boxes:\n",
      "    \n",
      "    # this need a bit of fiddling for some reason when i commit\n",
      "    # list.append((x,y)) and call it Z it isnt the same as me typing (x,y) into the function?!?\n",
      "    top = value[0]\n",
      "    bottom = value[1]\n",
      "    x0 = float(top[0])\n",
      "    y0 = float(top[1])\n",
      "    x1 = float(bottom[0])\n",
      "    y1 = float(bottom[1])\n",
      "    if k%2 ==0:\n",
      "        draw.rectangle((x0,y0,x1,y1),fill=(0,0,0))\n",
      "        k += 1\n",
      "    else:\n",
      "        draw.rectangle((x0,y0,x1,y1),fill=(100,100,100))\n",
      "        k += 1\n",
      "\n",
      "img.save('final.png')\n",
      "I('final.png')"
     ],
     "language": "python",
     "metadata": {},
     "outputs": [
      {
       "metadata": {},
       "output_type": "pyout",
       "png": "[encoded data removed]",
       "prompt_number": 26,
       "text": [
        "<IPython.core.display.Image at 0x7fa2f8073dd0>"
       ]
      }
     ],
     "prompt_number": 26
    },
    {
     "cell_type": "markdown",
     "metadata": {},
     "source": [
      "Right that works so lets random it up a little with the hash value. So what I will do is split the hash value into 25 numbers and do something similar."
     ]
    },
    {
     "cell_type": "code",
     "collapsed": false,
     "input": [
      "string = str(hashvalue)"
     ],
     "language": "python",
     "metadata": {},
     "outputs": [],
     "prompt_number": 33
    },
    {
     "cell_type": "code",
     "collapsed": false,
     "input": [
      "while len(string) < 25:\n",
      "    string += string\n",
      "print string"
     ],
     "language": "python",
     "metadata": {},
     "outputs": [
      {
       "output_type": "stream",
       "stream": "stdout",
       "text": [
        "840651671246116861840651671246116861\n"
       ]
      }
     ],
     "prompt_number": 34
    },
    {
     "cell_type": "code",
     "collapsed": false,
     "input": [
      "print string[0]"
     ],
     "language": "python",
     "metadata": {},
     "outputs": [
      {
       "output_type": "stream",
       "stream": "stdout",
       "text": [
        "8\n"
       ]
      }
     ],
     "prompt_number": 35
    },
    {
     "cell_type": "markdown",
     "metadata": {},
     "source": [
      "Great now this is a way of creating some patterns! Colour for instance could depend on the first 3 digits of the has value, I will make 10 colours initially but obviously more could be added! Lets add it all together!"
     ]
    },
    {
     "cell_type": "code",
     "collapsed": false,
     "input": [
      "from IPython.display import Image as I\n",
      "import numpy as np\n",
      "from PIL.ImageDraw import Draw,Image\n",
      "import itertools\n",
      "\n",
      "hashvalue = hash(raw_input(\"Type Something \"))\n",
      "img = Image.new(\"RGBA\", (500, 500))\n",
      "draw = Draw(img)\n",
      "draw.rectangle(((0,0), (500, 500)), fill=(245, 245, 245))\n",
      "tops = np.linspace(0,400,5)\n",
      "bottoms = np.linspace(100,500,5)\n",
      "left = list(itertools.product((tops),(tops)))\n",
      "right = list(itertools.product((bottoms),(bottoms)))\n",
      "boxes = []\n",
      "for j in range(len(left)):\n",
      "    boxes.append((left[j],right[j]))\n",
      "\n",
      "string = int(hashvalue)\n",
      "if string < 0:\n",
      "    string = -string\n",
      "string = str(string)    \n",
      "while len(string) < 25:\n",
      "    string += string\n",
      "box_num = 0\n",
      "\n",
      "X = float(string[0:3])\n",
      "while X > 255:\n",
      "    X = X/2\n",
      "    \n",
      "c1 = int(X)\n",
      "c2 = int(X)\n",
      "c3 = int(X)\n",
      "C1 = c2/2\n",
      "C2 = c3/2\n",
      "C3 = c1/2\n",
      "print c1,c2,c3\n",
      "for value in boxes:\n",
      "    top = value[0]\n",
      "    bottom = value[1]\n",
      "    x0 = float(top[0])\n",
      "    y0 = float(top[1])\n",
      "    x1 = float(bottom[0])\n",
      "    y1 = float(bottom[1])\n",
      "    \n",
      "    \n",
      "    if int(string[box_num])%2 == 0:\n",
      "        draw.rectangle((x0,y0,x1,y1),fill=(c1,c2,c3))\n",
      "\n",
      "    else:\n",
      "        draw.rectangle((x0,y0,x1,y1),fill=(C1,C2,C3))\n",
      "    box_num += 1\n",
      "\n",
      "img.save('final.png')\n",
      "I('final.png')"
     ],
     "language": "python",
     "metadata": {},
     "outputs": [
      {
       "name": "stdout",
       "output_type": "stream",
       "stream": "stdout",
       "text": [
        "Type Something Kaspar\n"
       ]
      },
      {
       "output_type": "stream",
       "stream": "stdout",
       "text": [
        "173 173 173\n"
       ]
      },
      {
       "metadata": {},
       "output_type": "pyout",
       "png": "[encoded data removed]",
       "prompt_number": 8,
       "text": [
        "<IPython.core.display.Image at 0x7fb70803b890>"
       ]
      }
     ],
     "prompt_number": 8
    },
    {
     "cell_type": "code",
     "collapsed": false,
     "input": [],
     "language": "python",
     "metadata": {},
     "outputs": []
    }
   ],
   "metadata": {}
  }
 ]
}