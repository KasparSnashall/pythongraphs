{
 "metadata": {
  "name": "",
  "signature": "sha256:0d4532940cf95c9a3906547d3e94781065bff48d29b65444bce1ac192a0616d1"
 },
 "nbformat": 3,
 "nbformat_minor": 0,
 "worksheets": []
}